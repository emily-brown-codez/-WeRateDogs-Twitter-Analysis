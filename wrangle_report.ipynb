{
 "cells": [
  {
   "cell_type": "markdown",
   "metadata": {},
   "source": [
    "<a id='intro'></a>\n",
    "## Introduction"
   ]
  },
  {
   "cell_type": "markdown",
   "metadata": {},
   "source": [
    "This project involved gathering data from three different data sets from the WeRateDogs Twitter account.  WeRateDogs rates pictures of dogs with humorous comments.  They have over four million followers.  Udacity provided me with the first data set which was basic tweet data for all 5000+ of their tweets as they stood on August 2, 2017.  The second data set was also provided by Udacity with dog images to match the tweets.  Finally, the third data set comes from Twitter using their APIs and transforming it into a dataframe.  "
   ]
  },
  {
   "cell_type": "markdown",
   "metadata": {},
   "source": [
    "## Gathering Data\n",
    "I imported the tweets archive .csv file and discovered there were 2356 entries. There were no tweet id duplicates in the df tweets data set.  Using requests, I imported the .tsv file image_predictions.  Image predictions has 2075 entries and 12 columns.  For the third data set, I used tweepy to access Twitter’s API and load to a JSON.  The JSON was a text format that was then imported as a data frame. This dataframe has 2833 entries.\n",
    "\n"
   ]
  },
  {
   "cell_type": "markdown",
   "metadata": {},
   "source": [
    "## Data Wrangling and Cleaning\n",
    "\n",
    " - I checked df tweets for any retweets as those are not needed. The columns in reply to status id and retweeted status user id helped to find rows to keep if they had null values as those were not retweets.  Then, I decided to delete those two columns as well as user id, retweeted status id, and retweeted status timestamp. Those were unnecessary columns to delete during this cleaning stage. I changed the timestamp column from object to datetime so it would be easier to work with for analysis.  The rating numerator wasn't showing the correct values in that column.  I extraxted the rating numerator and denominator from each tweets text.  I stored these as numerator divided by denominator in a new column called rating.  The rating was also changed to a float.  In the name column there were many lowercase names that's were made up dog names.  So I changed all of these to NaN so they wouldn't be counted when finding the most popular dog name.  I discovered three urls that were duplicated and deleted those.\n",
    " \n",
    " - The image predictions table had column names that were not very descriptive so I changed for easier reference.  I also dropped many of the columns as I only wanted to know the type of dog that was predicted first for the image.  Dog names in the p1 column were capitalized during cleaning to eliminate inconsistencies.  I checked again for duplicates this time in the jpg url column.  \n",
    " \n",
    " - Counts clean data set had many columns that needed to be cleaned and I only kept tweet id, retweet count and favorite count.  Again I checked for duplicates this time with the tweet id."
   ]
  },
  {
   "cell_type": "markdown",
   "metadata": {},
   "source": [
    "## Tidiness\n",
    " - The rating numerator and rating denominator columns were deleted since that information was moved to the rating column.\n",
    " - The clean tweets data set had four columns: doggo, floofer, pupper, and puppo.  These were deleted as this information was applied to a new column, dog stages.  \n",
    " - After cleaning the data sets, all three were merged together for easier viewing and analysis."
   ]
  },
  {
   "cell_type": "markdown",
   "metadata": {},
   "source": [
    "## Analysis\n",
    "My goal in the analysis was to find out the top dog names by count.  I also looked at the types of dogs that were tweeted the most.  How did these compare to the tweets that were favored the most?  And lastly, I wanted to capture the urls from the top two dog images that were favored."
   ]
  }
 ],
 "metadata": {
  "kernelspec": {
   "display_name": "Python 3",
   "language": "python",
   "name": "python3"
  },
  "language_info": {
   "codemirror_mode": {
    "name": "ipython",
    "version": 3
   },
   "file_extension": ".py",
   "mimetype": "text/x-python",
   "name": "python",
   "nbconvert_exporter": "python",
   "pygments_lexer": "ipython3",
   "version": "3.7.3"
  }
 },
 "nbformat": 4,
 "nbformat_minor": 2
}
